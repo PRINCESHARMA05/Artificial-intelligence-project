{
 "cells": [
  {
   "cell_type": "code",
   "execution_count": 1,
   "id": "Your_API_Key",
   "metadata": {},
   "outputs": [],
   "source": [
    "from openai import OpenAI\n",
    "from bs4 import BeautifulSoup\n",
    "import requests"
   ]
  },
  {
   "cell_type": "code",
   "execution_count": 2,
   "id": "a2fa35cc-8f9f-4a16-9a15-4c7321fba615",
   "metadata": {},
   "outputs": [],
   "source": [
    "key=\"Your_API_Key\""
   ]
  },
  {
   "cell_type": "code",
   "execution_count": 4,
   "id": "bb6247a8-6383-456e-b79b-3c4d6aa6779b",
   "metadata": {},
   "outputs": [],
   "source": [
    "response = requests.get(\"https://www.aryacollege.in/\")"
   ]
  },
  {
   "cell_type": "code",
   "execution_count": 5,
   "id": "d9863c86-ec7b-48b7-af9f-62c039d113eb",
   "metadata": {},
   "outputs": [],
   "source": [
    "htmlcontent = response.content"
   ]
  },
  {
   "cell_type": "code",
   "execution_count": 6,
   "id": "c6472fdc-cfe9-4d4b-86ef-85368fcc05f5",
   "metadata": {},
   "outputs": [],
   "source": [
    "mycontent = BeautifulSoup(markup=htmlcontent, features=\"html.parser\")"
   ]
  },
  {
   "cell_type": "code",
   "execution_count": 7,
   "id": "f12b931e-cdf3-4b94-b05c-c703c0e635fc",
   "metadata": {},
   "outputs": [],
   "source": [
    "botcontent = mycontent.contents"
   ]
  },
  {
   "cell_type": "code",
   "execution_count": 8,
   "id": "ae4c3aa5-d21e-47ee-b9fe-d3c625fd505f",
   "metadata": {},
   "outputs": [],
   "source": [
    "gemini_model = OpenAI(\n",
    "    api_key=key,\n",
    "    base_url=\"https://generativelanguage.googleapis.com/v1beta/openai/\"\n",
    ")"
   ]
  },
  {
   "cell_type": "code",
   "execution_count": 10,
   "id": "c2363ba3-9c37-42e1-a681-cc76a8421204",
   "metadata": {},
   "outputs": [],
   "source": [
    "def bot(prompt):\n",
    "    msg =  [\n",
    "        {\"role\":\"system\", \"content\": f\"you are AI Assistant, you always have to greet everbody and provide details about arya college of engineering using content from this {botcontent}\"},\n",
    "          {\"role\": \"user\" , \"content\": prompt}\n",
    "    ]\n",
    "\n",
    "    response = gemini_model.chat.completions.create(model= \"gemini-2.5-flash\" , messages= msg)\n",
    "    return(response.choices[0].message.content)"
   ]
  },
  {
   "cell_type": "code",
   "execution_count": 11,
   "id": "228511dc-e4db-4292-a081-a845291bbe64",
   "metadata": {},
   "outputs": [
    {
     "name": "stdout",
     "output_type": "stream",
     "text": [
      "Hello there! I'd be happy to provide you with details about the courses offered at Arya College of Engineering & IT.\n",
      "\n",
      "Arya College of Engineering & IT (Arya 1st Old Campus), established in 2000, offers a range of career-oriented courses across various disciplines. These programs are designed to provide students with opportunities for specialization and skill development in their chosen fields.\n",
      "\n",
      "The institute offers the following courses:\n",
      "\n",
      "*   **B.Tech (Bachelor of Technology)**\n",
      "*   **M.Tech (Master of Technology)**\n",
      "*   **MBA (Master of Business Administration)**\n",
      "*   **Ph.D. (Doctor of Philosophy)**\n",
      "\n",
      "The college is highly regarded for its academic excellence, experienced faculty, and comprehensive facilities, providing a holistic environment for students to excel professionally and personally.\n"
     ]
    }
   ],
   "source": [
    "print(bot(\"tell me courses\"))"
   ]
  },
  {
   "cell_type": "code",
   "execution_count": null,
   "id": "3f0e3c81-ea4c-471f-b268-5e8fa5690f14",
   "metadata": {},
   "outputs": [],
   "source": []
  }
 ],
 "metadata": {
  "kernelspec": {
   "display_name": "Python 3 (ipykernel)",
   "language": "python",
   "name": "python3"
  },
  "language_info": {
   "codemirror_mode": {
    "name": "ipython",
    "version": 3
   },
   "file_extension": ".py",
   "mimetype": "text/x-python",
   "name": "python",
   "nbconvert_exporter": "python",
   "pygments_lexer": "ipython3",
   "version": "3.13.3"
  }
 },
 "nbformat": 4,
 "nbformat_minor": 5
}
